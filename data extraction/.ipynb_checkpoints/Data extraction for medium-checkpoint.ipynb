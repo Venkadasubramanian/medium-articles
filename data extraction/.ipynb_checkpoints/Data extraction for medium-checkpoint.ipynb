{
 "cells": [
  {
   "cell_type": "code",
   "execution_count": 1,
   "metadata": {},
   "outputs": [],
   "source": [
    "import pandas as pd"
   ]
  },
  {
   "cell_type": "markdown",
   "metadata": {},
   "source": [
    "## CSV file"
   ]
  },
  {
   "cell_type": "code",
   "execution_count": 3,
   "metadata": {},
   "outputs": [
    {
     "name": "stdout",
     "output_type": "stream",
     "text": [
      "District,Grade,Year,Demographic,Number Tested,Mean Scale Score,Num Level 1,Pct Level 1,Num Level 2,Pct Level 2,Num Level 3,Pct Level 3,Num Level 4,Pct Level 4,Num Level 3 and 4,Pct Level 3 and 4\n",
      "\n",
      "1,3,2006,All Students,936,673,73,7.8,170,18.2,484,51.7,209,22.3,693,74\n",
      "\n",
      "1,3,2007,All Students,836,679,48,5.7,86,10.3,511,61.1,191,22.8,702,84\n",
      "\n",
      "1,3,2008,All Students,862,686,17,2,94,10.9,537,62.3,214,24.8,751,87.1\n",
      "\n",
      "1,3,2009,All Students,914,691,8,0.9,66,7.2,598,65.4,242,26.5,840,91.9\n",
      "\n"
     ]
    }
   ],
   "source": [
    "a_file = open(\"2006_-_2012__Math_Test_Results_-_District_-_All_Students.csv\")\n",
    "n = 5\n",
    "for i in range(n):\n",
    "    line = a_file.readline()\n",
    "    print(line)\n",
    "a_file.close()"
   ]
  },
  {
   "cell_type": "code",
   "execution_count": 4,
   "metadata": {},
   "outputs": [],
   "source": [
    "file_link = 'https://data.cityofnewyork.us/api/views/7yig-nj52/rows.csv'\n",
    "data_csv = pd.read_csv(file_link)"
   ]
  },
  {
   "cell_type": "code",
   "execution_count": 5,
   "metadata": {},
   "outputs": [
    {
     "data": {
      "text/html": [
       "<div>\n",
       "<style scoped>\n",
       "    .dataframe tbody tr th:only-of-type {\n",
       "        vertical-align: middle;\n",
       "    }\n",
       "\n",
       "    .dataframe tbody tr th {\n",
       "        vertical-align: top;\n",
       "    }\n",
       "\n",
       "    .dataframe thead th {\n",
       "        text-align: right;\n",
       "    }\n",
       "</style>\n",
       "<table border=\"1\" class=\"dataframe\">\n",
       "  <thead>\n",
       "    <tr style=\"text-align: right;\">\n",
       "      <th></th>\n",
       "      <th>District</th>\n",
       "      <th>Grade</th>\n",
       "      <th>Year</th>\n",
       "      <th>Demographic</th>\n",
       "      <th>Number Tested</th>\n",
       "      <th>Mean Scale Score</th>\n",
       "      <th>Num Level 1</th>\n",
       "      <th>Pct Level 1</th>\n",
       "      <th>Num Level 2</th>\n",
       "      <th>Pct Level 2</th>\n",
       "      <th>Num Level 3</th>\n",
       "      <th>Pct Level 3</th>\n",
       "      <th>Num Level 4</th>\n",
       "      <th>Pct Level 4</th>\n",
       "      <th>Num Level 3 and 4</th>\n",
       "      <th>Pct Level 3 and 4</th>\n",
       "    </tr>\n",
       "  </thead>\n",
       "  <tbody>\n",
       "    <tr>\n",
       "      <th>0</th>\n",
       "      <td>1</td>\n",
       "      <td>3</td>\n",
       "      <td>2006</td>\n",
       "      <td>All Students</td>\n",
       "      <td>936</td>\n",
       "      <td>673</td>\n",
       "      <td>73</td>\n",
       "      <td>7.8</td>\n",
       "      <td>170</td>\n",
       "      <td>18.2</td>\n",
       "      <td>484</td>\n",
       "      <td>51.7</td>\n",
       "      <td>209</td>\n",
       "      <td>22.3</td>\n",
       "      <td>693</td>\n",
       "      <td>74.0</td>\n",
       "    </tr>\n",
       "    <tr>\n",
       "      <th>1</th>\n",
       "      <td>1</td>\n",
       "      <td>3</td>\n",
       "      <td>2007</td>\n",
       "      <td>All Students</td>\n",
       "      <td>836</td>\n",
       "      <td>679</td>\n",
       "      <td>48</td>\n",
       "      <td>5.7</td>\n",
       "      <td>86</td>\n",
       "      <td>10.3</td>\n",
       "      <td>511</td>\n",
       "      <td>61.1</td>\n",
       "      <td>191</td>\n",
       "      <td>22.8</td>\n",
       "      <td>702</td>\n",
       "      <td>84.0</td>\n",
       "    </tr>\n",
       "    <tr>\n",
       "      <th>2</th>\n",
       "      <td>1</td>\n",
       "      <td>3</td>\n",
       "      <td>2008</td>\n",
       "      <td>All Students</td>\n",
       "      <td>862</td>\n",
       "      <td>686</td>\n",
       "      <td>17</td>\n",
       "      <td>2.0</td>\n",
       "      <td>94</td>\n",
       "      <td>10.9</td>\n",
       "      <td>537</td>\n",
       "      <td>62.3</td>\n",
       "      <td>214</td>\n",
       "      <td>24.8</td>\n",
       "      <td>751</td>\n",
       "      <td>87.1</td>\n",
       "    </tr>\n",
       "    <tr>\n",
       "      <th>3</th>\n",
       "      <td>1</td>\n",
       "      <td>3</td>\n",
       "      <td>2009</td>\n",
       "      <td>All Students</td>\n",
       "      <td>914</td>\n",
       "      <td>691</td>\n",
       "      <td>8</td>\n",
       "      <td>0.9</td>\n",
       "      <td>66</td>\n",
       "      <td>7.2</td>\n",
       "      <td>598</td>\n",
       "      <td>65.4</td>\n",
       "      <td>242</td>\n",
       "      <td>26.5</td>\n",
       "      <td>840</td>\n",
       "      <td>91.9</td>\n",
       "    </tr>\n",
       "    <tr>\n",
       "      <th>4</th>\n",
       "      <td>1</td>\n",
       "      <td>3</td>\n",
       "      <td>2010</td>\n",
       "      <td>All Students</td>\n",
       "      <td>866</td>\n",
       "      <td>697</td>\n",
       "      <td>89</td>\n",
       "      <td>10.3</td>\n",
       "      <td>257</td>\n",
       "      <td>29.7</td>\n",
       "      <td>279</td>\n",
       "      <td>32.2</td>\n",
       "      <td>241</td>\n",
       "      <td>27.8</td>\n",
       "      <td>520</td>\n",
       "      <td>60.0</td>\n",
       "    </tr>\n",
       "  </tbody>\n",
       "</table>\n",
       "</div>"
      ],
      "text/plain": [
       "   District Grade  Year   Demographic  Number Tested  Mean Scale Score  \\\n",
       "0         1     3  2006  All Students            936               673   \n",
       "1         1     3  2007  All Students            836               679   \n",
       "2         1     3  2008  All Students            862               686   \n",
       "3         1     3  2009  All Students            914               691   \n",
       "4         1     3  2010  All Students            866               697   \n",
       "\n",
       "   Num Level 1  Pct Level 1  Num Level 2  Pct Level 2  Num Level 3  \\\n",
       "0           73          7.8          170         18.2          484   \n",
       "1           48          5.7           86         10.3          511   \n",
       "2           17          2.0           94         10.9          537   \n",
       "3            8          0.9           66          7.2          598   \n",
       "4           89         10.3          257         29.7          279   \n",
       "\n",
       "   Pct Level 3  Num Level 4  Pct Level 4  Num Level 3 and 4  Pct Level 3 and 4  \n",
       "0         51.7          209         22.3                693               74.0  \n",
       "1         61.1          191         22.8                702               84.0  \n",
       "2         62.3          214         24.8                751               87.1  \n",
       "3         65.4          242         26.5                840               91.9  \n",
       "4         32.2          241         27.8                520               60.0  "
      ]
     },
     "execution_count": 5,
     "metadata": {},
     "output_type": "execute_result"
    }
   ],
   "source": [
    "data_csv.head()"
   ]
  },
  {
   "cell_type": "markdown",
   "metadata": {},
   "source": [
    "## XML"
   ]
  },
  {
   "cell_type": "markdown",
   "metadata": {},
   "source": [
    "Todo: Download the xml file again with the indents"
   ]
  },
  {
   "cell_type": "code",
   "execution_count": 6,
   "metadata": {},
   "outputs": [],
   "source": [
    "def print_lines(n, file_name):\n",
    "    f = open(file_name)\n",
    "    for i in range(n):\n",
    "        print(f.readline())\n",
    "    f.close()"
   ]
  },
  {
   "cell_type": "code",
   "execution_count": 8,
   "metadata": {},
   "outputs": [
    {
     "name": "stdout",
     "output_type": "stream",
     "text": [
      "<response>\n",
      "\n",
      "\t<row>\n",
      "\n",
      "\t\t<row _id=\"row-u2j9_kxsi-fjvp\" _uuid=\"00000000-0000-0000-56DB-875C31626566\" _position=\"0\" _address=\"https://data.cityofnewyork.us/resource/_7yig-nj52/row-u2j9_kxsi-fjvp\">\n",
      "\n",
      "\t\t\t<district>1</district>\n",
      "\n",
      "\t\t\t<grade>3</grade>\n",
      "\n",
      "\t\t\t<year>2006</year>\n",
      "\n",
      "\t\t\t<demographic>All Students</demographic>\n",
      "\n",
      "\t\t\t<number_tested>936</number_tested>\n",
      "\n",
      "\t\t\t<mean_scale_score>673</mean_scale_score>\n",
      "\n",
      "\t\t\t<num_level_1>73</num_level_1>\n",
      "\n",
      "\t\t\t<pct_level_1>7.8</pct_level_1>\n",
      "\n",
      "\t\t\t<num_level_2>170</num_level_2>\n",
      "\n",
      "\t\t\t<pct_level_2>18.2</pct_level_2>\n",
      "\n",
      "\t\t\t<num_level_3>484</num_level_3>\n",
      "\n",
      "\t\t\t<pct_level_3>51.7</pct_level_3>\n",
      "\n"
     ]
    }
   ],
   "source": [
    "print_lines(15, 'math results.xml')\n",
    "# a_file = open(\"data/math results.xml\")\n",
    "# n = 5\n",
    "# for i in range(n):\n",
    "#     line = a_file.readline()\n",
    "#     print(line)\n",
    "# a_file.close()\n",
    "\n",
    "# f = open('data/math results.xml')\n",
    "# for i in range(n):\n",
    "#     print(f.readline())\n",
    "# f.close()"
   ]
  },
  {
   "cell_type": "code",
   "execution_count": null,
   "metadata": {},
   "outputs": [],
   "source": []
  }
 ],
 "metadata": {
  "kernelspec": {
   "display_name": "Python 3",
   "language": "python",
   "name": "python3"
  },
  "language_info": {
   "codemirror_mode": {
    "name": "ipython",
    "version": 3
   },
   "file_extension": ".py",
   "mimetype": "text/x-python",
   "name": "python",
   "nbconvert_exporter": "python",
   "pygments_lexer": "ipython3",
   "version": "3.7.6"
  }
 },
 "nbformat": 4,
 "nbformat_minor": 4
}
